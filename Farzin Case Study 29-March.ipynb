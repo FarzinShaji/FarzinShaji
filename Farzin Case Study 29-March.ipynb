{
 "cells": [
  {
   "cell_type": "markdown",
   "id": "2d3ae91f",
   "metadata": {},
   "source": [
    "# Importing Libraries"
   ]
  },
  {
   "cell_type": "code",
   "execution_count": 1,
   "id": "14eb292a",
   "metadata": {},
   "outputs": [],
   "source": [
    "import pandas as pd\n",
    "import numpy as np\n",
    "import matplotlib.pyplot as plt\n",
    "import seaborn as sns\n",
    "\n",
    "from sklearn.preprocessing import StandardScaler\n",
    "\n",
    "from sklearn.cluster import KMeans\n",
    "import scipy.cluster.hierarchy as sch\n",
    "from sklearn.cluster import AgglomerativeClustering\n",
    "from sklearn.cluster import DBSCAN\n",
    "\n",
    "from sklearn.decomposition import PCA\n",
    "\n",
    "from sklearn.metrics import silhouette_score"
   ]
  },
  {
   "cell_type": "code",
   "execution_count": 2,
   "id": "8bc705b5",
   "metadata": {},
   "outputs": [],
   "source": [
    "import warnings\n",
    "warnings.filterwarnings('ignore')"
   ]
  },
  {
   "cell_type": "markdown",
   "id": "0d396b20",
   "metadata": {},
   "source": [
    "# Loading the Data"
   ]
  },
  {
   "cell_type": "code",
   "execution_count": 3,
   "id": "9e30bda9",
   "metadata": {},
   "outputs": [],
   "source": [
    "data = pd.read_csv('Wine_clust.csv')"
   ]
  },
  {
   "cell_type": "code",
   "execution_count": 4,
   "id": "54a15fa9",
   "metadata": {},
   "outputs": [
    {
     "data": {
      "text/html": [
       "<div>\n",
       "<style scoped>\n",
       "    .dataframe tbody tr th:only-of-type {\n",
       "        vertical-align: middle;\n",
       "    }\n",
       "\n",
       "    .dataframe tbody tr th {\n",
       "        vertical-align: top;\n",
       "    }\n",
       "\n",
       "    .dataframe thead th {\n",
       "        text-align: right;\n",
       "    }\n",
       "</style>\n",
       "<table border=\"1\" class=\"dataframe\">\n",
       "  <thead>\n",
       "    <tr style=\"text-align: right;\">\n",
       "      <th></th>\n",
       "      <th>Alcohol</th>\n",
       "      <th>Malic_Acid</th>\n",
       "      <th>Ash</th>\n",
       "      <th>Ash_Alcanity</th>\n",
       "      <th>Magnesium</th>\n",
       "      <th>Total_Phenols</th>\n",
       "      <th>Flavanoids</th>\n",
       "      <th>Nonflavanoid_Phenols</th>\n",
       "      <th>Proanthocyanins</th>\n",
       "      <th>Color_Intensity</th>\n",
       "      <th>Hue</th>\n",
       "      <th>OD280</th>\n",
       "      <th>Proline</th>\n",
       "    </tr>\n",
       "  </thead>\n",
       "  <tbody>\n",
       "    <tr>\n",
       "      <th>0</th>\n",
       "      <td>14.23</td>\n",
       "      <td>1.71</td>\n",
       "      <td>2.43</td>\n",
       "      <td>15.6</td>\n",
       "      <td>127</td>\n",
       "      <td>2.80</td>\n",
       "      <td>3.06</td>\n",
       "      <td>0.28</td>\n",
       "      <td>2.29</td>\n",
       "      <td>5.64</td>\n",
       "      <td>1.04</td>\n",
       "      <td>3.92</td>\n",
       "      <td>1065</td>\n",
       "    </tr>\n",
       "    <tr>\n",
       "      <th>1</th>\n",
       "      <td>13.20</td>\n",
       "      <td>1.78</td>\n",
       "      <td>2.14</td>\n",
       "      <td>11.2</td>\n",
       "      <td>100</td>\n",
       "      <td>2.65</td>\n",
       "      <td>2.76</td>\n",
       "      <td>0.26</td>\n",
       "      <td>1.28</td>\n",
       "      <td>4.38</td>\n",
       "      <td>1.05</td>\n",
       "      <td>3.40</td>\n",
       "      <td>1050</td>\n",
       "    </tr>\n",
       "    <tr>\n",
       "      <th>2</th>\n",
       "      <td>13.16</td>\n",
       "      <td>2.36</td>\n",
       "      <td>2.67</td>\n",
       "      <td>18.6</td>\n",
       "      <td>101</td>\n",
       "      <td>2.80</td>\n",
       "      <td>3.24</td>\n",
       "      <td>0.30</td>\n",
       "      <td>2.81</td>\n",
       "      <td>5.68</td>\n",
       "      <td>1.03</td>\n",
       "      <td>3.17</td>\n",
       "      <td>1185</td>\n",
       "    </tr>\n",
       "    <tr>\n",
       "      <th>3</th>\n",
       "      <td>14.37</td>\n",
       "      <td>1.95</td>\n",
       "      <td>2.50</td>\n",
       "      <td>16.8</td>\n",
       "      <td>113</td>\n",
       "      <td>3.85</td>\n",
       "      <td>3.49</td>\n",
       "      <td>0.24</td>\n",
       "      <td>2.18</td>\n",
       "      <td>7.80</td>\n",
       "      <td>0.86</td>\n",
       "      <td>3.45</td>\n",
       "      <td>1480</td>\n",
       "    </tr>\n",
       "    <tr>\n",
       "      <th>4</th>\n",
       "      <td>13.24</td>\n",
       "      <td>2.59</td>\n",
       "      <td>2.87</td>\n",
       "      <td>21.0</td>\n",
       "      <td>118</td>\n",
       "      <td>2.80</td>\n",
       "      <td>2.69</td>\n",
       "      <td>0.39</td>\n",
       "      <td>1.82</td>\n",
       "      <td>4.32</td>\n",
       "      <td>1.04</td>\n",
       "      <td>2.93</td>\n",
       "      <td>735</td>\n",
       "    </tr>\n",
       "  </tbody>\n",
       "</table>\n",
       "</div>"
      ],
      "text/plain": [
       "   Alcohol  Malic_Acid   Ash  Ash_Alcanity  Magnesium  Total_Phenols  \\\n",
       "0    14.23        1.71  2.43          15.6        127           2.80   \n",
       "1    13.20        1.78  2.14          11.2        100           2.65   \n",
       "2    13.16        2.36  2.67          18.6        101           2.80   \n",
       "3    14.37        1.95  2.50          16.8        113           3.85   \n",
       "4    13.24        2.59  2.87          21.0        118           2.80   \n",
       "\n",
       "   Flavanoids  Nonflavanoid_Phenols  Proanthocyanins  Color_Intensity   Hue  \\\n",
       "0        3.06                  0.28             2.29             5.64  1.04   \n",
       "1        2.76                  0.26             1.28             4.38  1.05   \n",
       "2        3.24                  0.30             2.81             5.68  1.03   \n",
       "3        3.49                  0.24             2.18             7.80  0.86   \n",
       "4        2.69                  0.39             1.82             4.32  1.04   \n",
       "\n",
       "   OD280  Proline  \n",
       "0   3.92     1065  \n",
       "1   3.40     1050  \n",
       "2   3.17     1185  \n",
       "3   3.45     1480  \n",
       "4   2.93      735  "
      ]
     },
     "execution_count": 4,
     "metadata": {},
     "output_type": "execute_result"
    }
   ],
   "source": [
    "data.head()"
   ]
  },
  {
   "cell_type": "code",
   "execution_count": 5,
   "id": "70c7e4e7",
   "metadata": {},
   "outputs": [
    {
     "data": {
      "text/html": [
       "<div>\n",
       "<style scoped>\n",
       "    .dataframe tbody tr th:only-of-type {\n",
       "        vertical-align: middle;\n",
       "    }\n",
       "\n",
       "    .dataframe tbody tr th {\n",
       "        vertical-align: top;\n",
       "    }\n",
       "\n",
       "    .dataframe thead th {\n",
       "        text-align: right;\n",
       "    }\n",
       "</style>\n",
       "<table border=\"1\" class=\"dataframe\">\n",
       "  <thead>\n",
       "    <tr style=\"text-align: right;\">\n",
       "      <th></th>\n",
       "      <th>Alcohol</th>\n",
       "      <th>Malic_Acid</th>\n",
       "      <th>Ash</th>\n",
       "      <th>Ash_Alcanity</th>\n",
       "      <th>Magnesium</th>\n",
       "      <th>Total_Phenols</th>\n",
       "      <th>Flavanoids</th>\n",
       "      <th>Nonflavanoid_Phenols</th>\n",
       "      <th>Proanthocyanins</th>\n",
       "      <th>Color_Intensity</th>\n",
       "      <th>Hue</th>\n",
       "      <th>OD280</th>\n",
       "      <th>Proline</th>\n",
       "    </tr>\n",
       "  </thead>\n",
       "  <tbody>\n",
       "    <tr>\n",
       "      <th>173</th>\n",
       "      <td>13.71</td>\n",
       "      <td>5.65</td>\n",
       "      <td>2.45</td>\n",
       "      <td>20.5</td>\n",
       "      <td>95</td>\n",
       "      <td>1.68</td>\n",
       "      <td>0.61</td>\n",
       "      <td>0.52</td>\n",
       "      <td>1.06</td>\n",
       "      <td>7.7</td>\n",
       "      <td>0.64</td>\n",
       "      <td>1.74</td>\n",
       "      <td>740</td>\n",
       "    </tr>\n",
       "    <tr>\n",
       "      <th>174</th>\n",
       "      <td>13.40</td>\n",
       "      <td>3.91</td>\n",
       "      <td>2.48</td>\n",
       "      <td>23.0</td>\n",
       "      <td>102</td>\n",
       "      <td>1.80</td>\n",
       "      <td>0.75</td>\n",
       "      <td>0.43</td>\n",
       "      <td>1.41</td>\n",
       "      <td>7.3</td>\n",
       "      <td>0.70</td>\n",
       "      <td>1.56</td>\n",
       "      <td>750</td>\n",
       "    </tr>\n",
       "    <tr>\n",
       "      <th>175</th>\n",
       "      <td>13.27</td>\n",
       "      <td>4.28</td>\n",
       "      <td>2.26</td>\n",
       "      <td>20.0</td>\n",
       "      <td>120</td>\n",
       "      <td>1.59</td>\n",
       "      <td>0.69</td>\n",
       "      <td>0.43</td>\n",
       "      <td>1.35</td>\n",
       "      <td>10.2</td>\n",
       "      <td>0.59</td>\n",
       "      <td>1.56</td>\n",
       "      <td>835</td>\n",
       "    </tr>\n",
       "    <tr>\n",
       "      <th>176</th>\n",
       "      <td>13.17</td>\n",
       "      <td>2.59</td>\n",
       "      <td>2.37</td>\n",
       "      <td>20.0</td>\n",
       "      <td>120</td>\n",
       "      <td>1.65</td>\n",
       "      <td>0.68</td>\n",
       "      <td>0.53</td>\n",
       "      <td>1.46</td>\n",
       "      <td>9.3</td>\n",
       "      <td>0.60</td>\n",
       "      <td>1.62</td>\n",
       "      <td>840</td>\n",
       "    </tr>\n",
       "    <tr>\n",
       "      <th>177</th>\n",
       "      <td>14.13</td>\n",
       "      <td>4.10</td>\n",
       "      <td>2.74</td>\n",
       "      <td>24.5</td>\n",
       "      <td>96</td>\n",
       "      <td>2.05</td>\n",
       "      <td>0.76</td>\n",
       "      <td>0.56</td>\n",
       "      <td>1.35</td>\n",
       "      <td>9.2</td>\n",
       "      <td>0.61</td>\n",
       "      <td>1.60</td>\n",
       "      <td>560</td>\n",
       "    </tr>\n",
       "  </tbody>\n",
       "</table>\n",
       "</div>"
      ],
      "text/plain": [
       "     Alcohol  Malic_Acid   Ash  Ash_Alcanity  Magnesium  Total_Phenols  \\\n",
       "173    13.71        5.65  2.45          20.5         95           1.68   \n",
       "174    13.40        3.91  2.48          23.0        102           1.80   \n",
       "175    13.27        4.28  2.26          20.0        120           1.59   \n",
       "176    13.17        2.59  2.37          20.0        120           1.65   \n",
       "177    14.13        4.10  2.74          24.5         96           2.05   \n",
       "\n",
       "     Flavanoids  Nonflavanoid_Phenols  Proanthocyanins  Color_Intensity   Hue  \\\n",
       "173        0.61                  0.52             1.06              7.7  0.64   \n",
       "174        0.75                  0.43             1.41              7.3  0.70   \n",
       "175        0.69                  0.43             1.35             10.2  0.59   \n",
       "176        0.68                  0.53             1.46              9.3  0.60   \n",
       "177        0.76                  0.56             1.35              9.2  0.61   \n",
       "\n",
       "     OD280  Proline  \n",
       "173   1.74      740  \n",
       "174   1.56      750  \n",
       "175   1.56      835  \n",
       "176   1.62      840  \n",
       "177   1.60      560  "
      ]
     },
     "execution_count": 5,
     "metadata": {},
     "output_type": "execute_result"
    }
   ],
   "source": [
    "data.tail()"
   ]
  },
  {
   "cell_type": "code",
   "execution_count": 6,
   "id": "5e85af56",
   "metadata": {},
   "outputs": [
    {
     "data": {
      "text/plain": [
       "(178, 13)"
      ]
     },
     "execution_count": 6,
     "metadata": {},
     "output_type": "execute_result"
    }
   ],
   "source": [
    "data.shape"
   ]
  },
  {
   "cell_type": "code",
   "execution_count": 7,
   "id": "c06062cb",
   "metadata": {},
   "outputs": [
    {
     "data": {
      "text/plain": [
       "Index(['Alcohol', 'Malic_Acid', 'Ash', 'Ash_Alcanity', 'Magnesium',\n",
       "       'Total_Phenols', 'Flavanoids', 'Nonflavanoid_Phenols',\n",
       "       'Proanthocyanins', 'Color_Intensity', 'Hue', 'OD280', 'Proline'],\n",
       "      dtype='object')"
      ]
     },
     "execution_count": 7,
     "metadata": {},
     "output_type": "execute_result"
    }
   ],
   "source": [
    "data.columns"
   ]
  },
  {
   "cell_type": "code",
   "execution_count": 8,
   "id": "a09ee622",
   "metadata": {},
   "outputs": [
    {
     "name": "stdout",
     "output_type": "stream",
     "text": [
      "<class 'pandas.core.frame.DataFrame'>\n",
      "RangeIndex: 178 entries, 0 to 177\n",
      "Data columns (total 13 columns):\n",
      " #   Column                Non-Null Count  Dtype  \n",
      "---  ------                --------------  -----  \n",
      " 0   Alcohol               178 non-null    float64\n",
      " 1   Malic_Acid            178 non-null    float64\n",
      " 2   Ash                   178 non-null    float64\n",
      " 3   Ash_Alcanity          178 non-null    float64\n",
      " 4   Magnesium             178 non-null    int64  \n",
      " 5   Total_Phenols         178 non-null    float64\n",
      " 6   Flavanoids            178 non-null    float64\n",
      " 7   Nonflavanoid_Phenols  178 non-null    float64\n",
      " 8   Proanthocyanins       178 non-null    float64\n",
      " 9   Color_Intensity       178 non-null    float64\n",
      " 10  Hue                   178 non-null    float64\n",
      " 11  OD280                 178 non-null    float64\n",
      " 12  Proline               178 non-null    int64  \n",
      "dtypes: float64(11), int64(2)\n",
      "memory usage: 18.2 KB\n"
     ]
    }
   ],
   "source": [
    "data.info()"
   ]
  },
  {
   "cell_type": "code",
   "execution_count": 9,
   "id": "bd0f9d03",
   "metadata": {},
   "outputs": [
    {
     "data": {
      "text/html": [
       "<div>\n",
       "<style scoped>\n",
       "    .dataframe tbody tr th:only-of-type {\n",
       "        vertical-align: middle;\n",
       "    }\n",
       "\n",
       "    .dataframe tbody tr th {\n",
       "        vertical-align: top;\n",
       "    }\n",
       "\n",
       "    .dataframe thead th {\n",
       "        text-align: right;\n",
       "    }\n",
       "</style>\n",
       "<table border=\"1\" class=\"dataframe\">\n",
       "  <thead>\n",
       "    <tr style=\"text-align: right;\">\n",
       "      <th></th>\n",
       "      <th>Alcohol</th>\n",
       "      <th>Malic_Acid</th>\n",
       "      <th>Ash</th>\n",
       "      <th>Ash_Alcanity</th>\n",
       "      <th>Magnesium</th>\n",
       "      <th>Total_Phenols</th>\n",
       "      <th>Flavanoids</th>\n",
       "      <th>Nonflavanoid_Phenols</th>\n",
       "      <th>Proanthocyanins</th>\n",
       "      <th>Color_Intensity</th>\n",
       "      <th>Hue</th>\n",
       "      <th>OD280</th>\n",
       "      <th>Proline</th>\n",
       "    </tr>\n",
       "  </thead>\n",
       "  <tbody>\n",
       "    <tr>\n",
       "      <th>count</th>\n",
       "      <td>178.000000</td>\n",
       "      <td>178.000000</td>\n",
       "      <td>178.000000</td>\n",
       "      <td>178.000000</td>\n",
       "      <td>178.000000</td>\n",
       "      <td>178.000000</td>\n",
       "      <td>178.000000</td>\n",
       "      <td>178.000000</td>\n",
       "      <td>178.000000</td>\n",
       "      <td>178.000000</td>\n",
       "      <td>178.000000</td>\n",
       "      <td>178.000000</td>\n",
       "      <td>178.000000</td>\n",
       "    </tr>\n",
       "    <tr>\n",
       "      <th>mean</th>\n",
       "      <td>13.000618</td>\n",
       "      <td>2.336348</td>\n",
       "      <td>2.366517</td>\n",
       "      <td>19.494944</td>\n",
       "      <td>99.741573</td>\n",
       "      <td>2.295112</td>\n",
       "      <td>2.029270</td>\n",
       "      <td>0.361854</td>\n",
       "      <td>1.590899</td>\n",
       "      <td>5.058090</td>\n",
       "      <td>0.957449</td>\n",
       "      <td>2.611685</td>\n",
       "      <td>746.893258</td>\n",
       "    </tr>\n",
       "    <tr>\n",
       "      <th>std</th>\n",
       "      <td>0.811827</td>\n",
       "      <td>1.117146</td>\n",
       "      <td>0.274344</td>\n",
       "      <td>3.339564</td>\n",
       "      <td>14.282484</td>\n",
       "      <td>0.625851</td>\n",
       "      <td>0.998859</td>\n",
       "      <td>0.124453</td>\n",
       "      <td>0.572359</td>\n",
       "      <td>2.318286</td>\n",
       "      <td>0.228572</td>\n",
       "      <td>0.709990</td>\n",
       "      <td>314.907474</td>\n",
       "    </tr>\n",
       "    <tr>\n",
       "      <th>min</th>\n",
       "      <td>11.030000</td>\n",
       "      <td>0.740000</td>\n",
       "      <td>1.360000</td>\n",
       "      <td>10.600000</td>\n",
       "      <td>70.000000</td>\n",
       "      <td>0.980000</td>\n",
       "      <td>0.340000</td>\n",
       "      <td>0.130000</td>\n",
       "      <td>0.410000</td>\n",
       "      <td>1.280000</td>\n",
       "      <td>0.480000</td>\n",
       "      <td>1.270000</td>\n",
       "      <td>278.000000</td>\n",
       "    </tr>\n",
       "    <tr>\n",
       "      <th>25%</th>\n",
       "      <td>12.362500</td>\n",
       "      <td>1.602500</td>\n",
       "      <td>2.210000</td>\n",
       "      <td>17.200000</td>\n",
       "      <td>88.000000</td>\n",
       "      <td>1.742500</td>\n",
       "      <td>1.205000</td>\n",
       "      <td>0.270000</td>\n",
       "      <td>1.250000</td>\n",
       "      <td>3.220000</td>\n",
       "      <td>0.782500</td>\n",
       "      <td>1.937500</td>\n",
       "      <td>500.500000</td>\n",
       "    </tr>\n",
       "    <tr>\n",
       "      <th>50%</th>\n",
       "      <td>13.050000</td>\n",
       "      <td>1.865000</td>\n",
       "      <td>2.360000</td>\n",
       "      <td>19.500000</td>\n",
       "      <td>98.000000</td>\n",
       "      <td>2.355000</td>\n",
       "      <td>2.135000</td>\n",
       "      <td>0.340000</td>\n",
       "      <td>1.555000</td>\n",
       "      <td>4.690000</td>\n",
       "      <td>0.965000</td>\n",
       "      <td>2.780000</td>\n",
       "      <td>673.500000</td>\n",
       "    </tr>\n",
       "    <tr>\n",
       "      <th>75%</th>\n",
       "      <td>13.677500</td>\n",
       "      <td>3.082500</td>\n",
       "      <td>2.557500</td>\n",
       "      <td>21.500000</td>\n",
       "      <td>107.000000</td>\n",
       "      <td>2.800000</td>\n",
       "      <td>2.875000</td>\n",
       "      <td>0.437500</td>\n",
       "      <td>1.950000</td>\n",
       "      <td>6.200000</td>\n",
       "      <td>1.120000</td>\n",
       "      <td>3.170000</td>\n",
       "      <td>985.000000</td>\n",
       "    </tr>\n",
       "    <tr>\n",
       "      <th>max</th>\n",
       "      <td>14.830000</td>\n",
       "      <td>5.800000</td>\n",
       "      <td>3.230000</td>\n",
       "      <td>30.000000</td>\n",
       "      <td>162.000000</td>\n",
       "      <td>3.880000</td>\n",
       "      <td>5.080000</td>\n",
       "      <td>0.660000</td>\n",
       "      <td>3.580000</td>\n",
       "      <td>13.000000</td>\n",
       "      <td>1.710000</td>\n",
       "      <td>4.000000</td>\n",
       "      <td>1680.000000</td>\n",
       "    </tr>\n",
       "  </tbody>\n",
       "</table>\n",
       "</div>"
      ],
      "text/plain": [
       "          Alcohol  Malic_Acid         Ash  Ash_Alcanity   Magnesium  \\\n",
       "count  178.000000  178.000000  178.000000    178.000000  178.000000   \n",
       "mean    13.000618    2.336348    2.366517     19.494944   99.741573   \n",
       "std      0.811827    1.117146    0.274344      3.339564   14.282484   \n",
       "min     11.030000    0.740000    1.360000     10.600000   70.000000   \n",
       "25%     12.362500    1.602500    2.210000     17.200000   88.000000   \n",
       "50%     13.050000    1.865000    2.360000     19.500000   98.000000   \n",
       "75%     13.677500    3.082500    2.557500     21.500000  107.000000   \n",
       "max     14.830000    5.800000    3.230000     30.000000  162.000000   \n",
       "\n",
       "       Total_Phenols  Flavanoids  Nonflavanoid_Phenols  Proanthocyanins  \\\n",
       "count     178.000000  178.000000            178.000000       178.000000   \n",
       "mean        2.295112    2.029270              0.361854         1.590899   \n",
       "std         0.625851    0.998859              0.124453         0.572359   \n",
       "min         0.980000    0.340000              0.130000         0.410000   \n",
       "25%         1.742500    1.205000              0.270000         1.250000   \n",
       "50%         2.355000    2.135000              0.340000         1.555000   \n",
       "75%         2.800000    2.875000              0.437500         1.950000   \n",
       "max         3.880000    5.080000              0.660000         3.580000   \n",
       "\n",
       "       Color_Intensity         Hue       OD280      Proline  \n",
       "count       178.000000  178.000000  178.000000   178.000000  \n",
       "mean          5.058090    0.957449    2.611685   746.893258  \n",
       "std           2.318286    0.228572    0.709990   314.907474  \n",
       "min           1.280000    0.480000    1.270000   278.000000  \n",
       "25%           3.220000    0.782500    1.937500   500.500000  \n",
       "50%           4.690000    0.965000    2.780000   673.500000  \n",
       "75%           6.200000    1.120000    3.170000   985.000000  \n",
       "max          13.000000    1.710000    4.000000  1680.000000  "
      ]
     },
     "execution_count": 9,
     "metadata": {},
     "output_type": "execute_result"
    }
   ],
   "source": [
    "data.describe()"
   ]
  },
  {
   "cell_type": "code",
   "execution_count": 10,
   "id": "31e838ee",
   "metadata": {},
   "outputs": [
    {
     "data": {
      "text/html": [
       "<div>\n",
       "<style scoped>\n",
       "    .dataframe tbody tr th:only-of-type {\n",
       "        vertical-align: middle;\n",
       "    }\n",
       "\n",
       "    .dataframe tbody tr th {\n",
       "        vertical-align: top;\n",
       "    }\n",
       "\n",
       "    .dataframe thead th {\n",
       "        text-align: right;\n",
       "    }\n",
       "</style>\n",
       "<table border=\"1\" class=\"dataframe\">\n",
       "  <thead>\n",
       "    <tr style=\"text-align: right;\">\n",
       "      <th></th>\n",
       "      <th>Alcohol</th>\n",
       "      <th>Malic_Acid</th>\n",
       "      <th>Ash</th>\n",
       "      <th>Ash_Alcanity</th>\n",
       "      <th>Magnesium</th>\n",
       "      <th>Total_Phenols</th>\n",
       "      <th>Flavanoids</th>\n",
       "      <th>Nonflavanoid_Phenols</th>\n",
       "      <th>Proanthocyanins</th>\n",
       "      <th>Color_Intensity</th>\n",
       "      <th>Hue</th>\n",
       "      <th>OD280</th>\n",
       "      <th>Proline</th>\n",
       "    </tr>\n",
       "  </thead>\n",
       "  <tbody>\n",
       "    <tr>\n",
       "      <th>Alcohol</th>\n",
       "      <td>1.000000</td>\n",
       "      <td>0.094397</td>\n",
       "      <td>0.211545</td>\n",
       "      <td>-0.310235</td>\n",
       "      <td>0.270798</td>\n",
       "      <td>0.289101</td>\n",
       "      <td>0.236815</td>\n",
       "      <td>-0.155929</td>\n",
       "      <td>0.136698</td>\n",
       "      <td>0.546364</td>\n",
       "      <td>-0.071747</td>\n",
       "      <td>0.072343</td>\n",
       "      <td>0.643720</td>\n",
       "    </tr>\n",
       "    <tr>\n",
       "      <th>Malic_Acid</th>\n",
       "      <td>0.094397</td>\n",
       "      <td>1.000000</td>\n",
       "      <td>0.164045</td>\n",
       "      <td>0.288500</td>\n",
       "      <td>-0.054575</td>\n",
       "      <td>-0.335167</td>\n",
       "      <td>-0.411007</td>\n",
       "      <td>0.292977</td>\n",
       "      <td>-0.220746</td>\n",
       "      <td>0.248985</td>\n",
       "      <td>-0.561296</td>\n",
       "      <td>-0.368710</td>\n",
       "      <td>-0.192011</td>\n",
       "    </tr>\n",
       "    <tr>\n",
       "      <th>Ash</th>\n",
       "      <td>0.211545</td>\n",
       "      <td>0.164045</td>\n",
       "      <td>1.000000</td>\n",
       "      <td>0.443367</td>\n",
       "      <td>0.286587</td>\n",
       "      <td>0.128980</td>\n",
       "      <td>0.115077</td>\n",
       "      <td>0.186230</td>\n",
       "      <td>0.009652</td>\n",
       "      <td>0.258887</td>\n",
       "      <td>-0.074667</td>\n",
       "      <td>0.003911</td>\n",
       "      <td>0.223626</td>\n",
       "    </tr>\n",
       "    <tr>\n",
       "      <th>Ash_Alcanity</th>\n",
       "      <td>-0.310235</td>\n",
       "      <td>0.288500</td>\n",
       "      <td>0.443367</td>\n",
       "      <td>1.000000</td>\n",
       "      <td>-0.083333</td>\n",
       "      <td>-0.321113</td>\n",
       "      <td>-0.351370</td>\n",
       "      <td>0.361922</td>\n",
       "      <td>-0.197327</td>\n",
       "      <td>0.018732</td>\n",
       "      <td>-0.273955</td>\n",
       "      <td>-0.276769</td>\n",
       "      <td>-0.440597</td>\n",
       "    </tr>\n",
       "    <tr>\n",
       "      <th>Magnesium</th>\n",
       "      <td>0.270798</td>\n",
       "      <td>-0.054575</td>\n",
       "      <td>0.286587</td>\n",
       "      <td>-0.083333</td>\n",
       "      <td>1.000000</td>\n",
       "      <td>0.214401</td>\n",
       "      <td>0.195784</td>\n",
       "      <td>-0.256294</td>\n",
       "      <td>0.236441</td>\n",
       "      <td>0.199950</td>\n",
       "      <td>0.055398</td>\n",
       "      <td>0.066004</td>\n",
       "      <td>0.393351</td>\n",
       "    </tr>\n",
       "    <tr>\n",
       "      <th>Total_Phenols</th>\n",
       "      <td>0.289101</td>\n",
       "      <td>-0.335167</td>\n",
       "      <td>0.128980</td>\n",
       "      <td>-0.321113</td>\n",
       "      <td>0.214401</td>\n",
       "      <td>1.000000</td>\n",
       "      <td>0.864564</td>\n",
       "      <td>-0.449935</td>\n",
       "      <td>0.612413</td>\n",
       "      <td>-0.055136</td>\n",
       "      <td>0.433681</td>\n",
       "      <td>0.699949</td>\n",
       "      <td>0.498115</td>\n",
       "    </tr>\n",
       "    <tr>\n",
       "      <th>Flavanoids</th>\n",
       "      <td>0.236815</td>\n",
       "      <td>-0.411007</td>\n",
       "      <td>0.115077</td>\n",
       "      <td>-0.351370</td>\n",
       "      <td>0.195784</td>\n",
       "      <td>0.864564</td>\n",
       "      <td>1.000000</td>\n",
       "      <td>-0.537900</td>\n",
       "      <td>0.652692</td>\n",
       "      <td>-0.172379</td>\n",
       "      <td>0.543479</td>\n",
       "      <td>0.787194</td>\n",
       "      <td>0.494193</td>\n",
       "    </tr>\n",
       "    <tr>\n",
       "      <th>Nonflavanoid_Phenols</th>\n",
       "      <td>-0.155929</td>\n",
       "      <td>0.292977</td>\n",
       "      <td>0.186230</td>\n",
       "      <td>0.361922</td>\n",
       "      <td>-0.256294</td>\n",
       "      <td>-0.449935</td>\n",
       "      <td>-0.537900</td>\n",
       "      <td>1.000000</td>\n",
       "      <td>-0.365845</td>\n",
       "      <td>0.139057</td>\n",
       "      <td>-0.262640</td>\n",
       "      <td>-0.503270</td>\n",
       "      <td>-0.311385</td>\n",
       "    </tr>\n",
       "    <tr>\n",
       "      <th>Proanthocyanins</th>\n",
       "      <td>0.136698</td>\n",
       "      <td>-0.220746</td>\n",
       "      <td>0.009652</td>\n",
       "      <td>-0.197327</td>\n",
       "      <td>0.236441</td>\n",
       "      <td>0.612413</td>\n",
       "      <td>0.652692</td>\n",
       "      <td>-0.365845</td>\n",
       "      <td>1.000000</td>\n",
       "      <td>-0.025250</td>\n",
       "      <td>0.295544</td>\n",
       "      <td>0.519067</td>\n",
       "      <td>0.330417</td>\n",
       "    </tr>\n",
       "    <tr>\n",
       "      <th>Color_Intensity</th>\n",
       "      <td>0.546364</td>\n",
       "      <td>0.248985</td>\n",
       "      <td>0.258887</td>\n",
       "      <td>0.018732</td>\n",
       "      <td>0.199950</td>\n",
       "      <td>-0.055136</td>\n",
       "      <td>-0.172379</td>\n",
       "      <td>0.139057</td>\n",
       "      <td>-0.025250</td>\n",
       "      <td>1.000000</td>\n",
       "      <td>-0.521813</td>\n",
       "      <td>-0.428815</td>\n",
       "      <td>0.316100</td>\n",
       "    </tr>\n",
       "    <tr>\n",
       "      <th>Hue</th>\n",
       "      <td>-0.071747</td>\n",
       "      <td>-0.561296</td>\n",
       "      <td>-0.074667</td>\n",
       "      <td>-0.273955</td>\n",
       "      <td>0.055398</td>\n",
       "      <td>0.433681</td>\n",
       "      <td>0.543479</td>\n",
       "      <td>-0.262640</td>\n",
       "      <td>0.295544</td>\n",
       "      <td>-0.521813</td>\n",
       "      <td>1.000000</td>\n",
       "      <td>0.565468</td>\n",
       "      <td>0.236183</td>\n",
       "    </tr>\n",
       "    <tr>\n",
       "      <th>OD280</th>\n",
       "      <td>0.072343</td>\n",
       "      <td>-0.368710</td>\n",
       "      <td>0.003911</td>\n",
       "      <td>-0.276769</td>\n",
       "      <td>0.066004</td>\n",
       "      <td>0.699949</td>\n",
       "      <td>0.787194</td>\n",
       "      <td>-0.503270</td>\n",
       "      <td>0.519067</td>\n",
       "      <td>-0.428815</td>\n",
       "      <td>0.565468</td>\n",
       "      <td>1.000000</td>\n",
       "      <td>0.312761</td>\n",
       "    </tr>\n",
       "    <tr>\n",
       "      <th>Proline</th>\n",
       "      <td>0.643720</td>\n",
       "      <td>-0.192011</td>\n",
       "      <td>0.223626</td>\n",
       "      <td>-0.440597</td>\n",
       "      <td>0.393351</td>\n",
       "      <td>0.498115</td>\n",
       "      <td>0.494193</td>\n",
       "      <td>-0.311385</td>\n",
       "      <td>0.330417</td>\n",
       "      <td>0.316100</td>\n",
       "      <td>0.236183</td>\n",
       "      <td>0.312761</td>\n",
       "      <td>1.000000</td>\n",
       "    </tr>\n",
       "  </tbody>\n",
       "</table>\n",
       "</div>"
      ],
      "text/plain": [
       "                       Alcohol  Malic_Acid       Ash  Ash_Alcanity  Magnesium  \\\n",
       "Alcohol               1.000000    0.094397  0.211545     -0.310235   0.270798   \n",
       "Malic_Acid            0.094397    1.000000  0.164045      0.288500  -0.054575   \n",
       "Ash                   0.211545    0.164045  1.000000      0.443367   0.286587   \n",
       "Ash_Alcanity         -0.310235    0.288500  0.443367      1.000000  -0.083333   \n",
       "Magnesium             0.270798   -0.054575  0.286587     -0.083333   1.000000   \n",
       "Total_Phenols         0.289101   -0.335167  0.128980     -0.321113   0.214401   \n",
       "Flavanoids            0.236815   -0.411007  0.115077     -0.351370   0.195784   \n",
       "Nonflavanoid_Phenols -0.155929    0.292977  0.186230      0.361922  -0.256294   \n",
       "Proanthocyanins       0.136698   -0.220746  0.009652     -0.197327   0.236441   \n",
       "Color_Intensity       0.546364    0.248985  0.258887      0.018732   0.199950   \n",
       "Hue                  -0.071747   -0.561296 -0.074667     -0.273955   0.055398   \n",
       "OD280                 0.072343   -0.368710  0.003911     -0.276769   0.066004   \n",
       "Proline               0.643720   -0.192011  0.223626     -0.440597   0.393351   \n",
       "\n",
       "                      Total_Phenols  Flavanoids  Nonflavanoid_Phenols  \\\n",
       "Alcohol                    0.289101    0.236815             -0.155929   \n",
       "Malic_Acid                -0.335167   -0.411007              0.292977   \n",
       "Ash                        0.128980    0.115077              0.186230   \n",
       "Ash_Alcanity              -0.321113   -0.351370              0.361922   \n",
       "Magnesium                  0.214401    0.195784             -0.256294   \n",
       "Total_Phenols              1.000000    0.864564             -0.449935   \n",
       "Flavanoids                 0.864564    1.000000             -0.537900   \n",
       "Nonflavanoid_Phenols      -0.449935   -0.537900              1.000000   \n",
       "Proanthocyanins            0.612413    0.652692             -0.365845   \n",
       "Color_Intensity           -0.055136   -0.172379              0.139057   \n",
       "Hue                        0.433681    0.543479             -0.262640   \n",
       "OD280                      0.699949    0.787194             -0.503270   \n",
       "Proline                    0.498115    0.494193             -0.311385   \n",
       "\n",
       "                      Proanthocyanins  Color_Intensity       Hue     OD280  \\\n",
       "Alcohol                      0.136698         0.546364 -0.071747  0.072343   \n",
       "Malic_Acid                  -0.220746         0.248985 -0.561296 -0.368710   \n",
       "Ash                          0.009652         0.258887 -0.074667  0.003911   \n",
       "Ash_Alcanity                -0.197327         0.018732 -0.273955 -0.276769   \n",
       "Magnesium                    0.236441         0.199950  0.055398  0.066004   \n",
       "Total_Phenols                0.612413        -0.055136  0.433681  0.699949   \n",
       "Flavanoids                   0.652692        -0.172379  0.543479  0.787194   \n",
       "Nonflavanoid_Phenols        -0.365845         0.139057 -0.262640 -0.503270   \n",
       "Proanthocyanins              1.000000        -0.025250  0.295544  0.519067   \n",
       "Color_Intensity             -0.025250         1.000000 -0.521813 -0.428815   \n",
       "Hue                          0.295544        -0.521813  1.000000  0.565468   \n",
       "OD280                        0.519067        -0.428815  0.565468  1.000000   \n",
       "Proline                      0.330417         0.316100  0.236183  0.312761   \n",
       "\n",
       "                       Proline  \n",
       "Alcohol               0.643720  \n",
       "Malic_Acid           -0.192011  \n",
       "Ash                   0.223626  \n",
       "Ash_Alcanity         -0.440597  \n",
       "Magnesium             0.393351  \n",
       "Total_Phenols         0.498115  \n",
       "Flavanoids            0.494193  \n",
       "Nonflavanoid_Phenols -0.311385  \n",
       "Proanthocyanins       0.330417  \n",
       "Color_Intensity       0.316100  \n",
       "Hue                   0.236183  \n",
       "OD280                 0.312761  \n",
       "Proline               1.000000  "
      ]
     },
     "execution_count": 10,
     "metadata": {},
     "output_type": "execute_result"
    }
   ],
   "source": [
    "data.corr()"
   ]
  },
  {
   "cell_type": "code",
   "execution_count": 11,
   "id": "254f3b9b",
   "metadata": {},
   "outputs": [
    {
     "data": {
      "text/plain": [
       "Alcohol                 0\n",
       "Malic_Acid              0\n",
       "Ash                     0\n",
       "Ash_Alcanity            0\n",
       "Magnesium               0\n",
       "Total_Phenols           0\n",
       "Flavanoids              0\n",
       "Nonflavanoid_Phenols    0\n",
       "Proanthocyanins         0\n",
       "Color_Intensity         0\n",
       "Hue                     0\n",
       "OD280                   0\n",
       "Proline                 0\n",
       "dtype: int64"
      ]
     },
     "execution_count": 11,
     "metadata": {},
     "output_type": "execute_result"
    }
   ],
   "source": [
    "data.isna().sum()"
   ]
  },
  {
   "cell_type": "markdown",
   "id": "c1e7795c",
   "metadata": {},
   "source": [
    "### Detecting Outliers"
   ]
  },
  {
   "cell_type": "code",
   "execution_count": 12,
   "id": "2ce92ed3",
   "metadata": {
    "scrolled": false
   },
   "outputs": [
    {
     "data": {
      "image/png": "[encoded data removed]",
      "text/plain": [
       "<Figure size 640x480 with 1 Axes>"
      ]
     },
     "metadata": {},
     "output_type": "display_data"
    },
    {
     "data": {
      "image/png": "[encoded data removed]",
      "text/plain": [
       "<Figure size 640x480 with 1 Axes>"
      ]
     },
     "metadata": {},
     "output_type": "display_data"
    },
    {
     "data": {
      "image/png": "[encoded data removed]",
      "text/plain": [
       "<Figure size 640x480 with 1 Axes>"
      ]
     },
     "metadata": {},
     "output_type": "display_data"
    },
    {
     "data": {
      "image/png": "[encoded data removed]",
      "text/plain": [
       "<Figure size 640x480 with 1 Axes>"
      ]
     },
     "metadata": {},
     "output_type": "display_data"
    },
    {
     "data": {
      "image/png": "[encoded data removed]",
      "text/plain": [
       "<Figure size 640x480 with 1 Axes>"
      ]
     },
     "metadata": {},
     "output_type": "display_data"
    },
    {
     "data": {
      "image/png": "[encoded data removed]",
      "text/plain": [
       "<Figure size 640x480 with 1 Axes>"
      ]
     },
     "metadata": {},
     "output_type": "display_data"
    },
    {
     "data": {
      "image/png": "[encoded data removed]",
      "text/plain": [
       "<Figure size 640x480 with 1 Axes>"
      ]
     },
     "metadata": {},
     "output_type": "display_data"
    },
    {
     "data": {
      "image/png": "[encoded data removed]",
      "text/plain": [
       "<Figure size 640x480 with 1 Axes>"
      ]
     },
     "metadata": {},
     "output_type": "display_data"
    },
    {
     "data": {
      "image/png": "[encoded data removed]",
      "text/plain": [
       "<Figure size 640x480 with 1 Axes>"
      ]
     },
     "metadata": {},
     "output_type": "display_data"
    },
    {
     "data": {
      "image/png": "[encoded data removed]",
      "text/plain": [
       "<Figure size 640x480 with 1 Axes>"
      ]
     },
     "metadata": {},
     "output_type": "display_data"
    },
    {
     "data": {
      "image/png": "[encoded data removed]",
      "text/plain": [
       "<Figure size 640x480 with 1 Axes>"
      ]
     },
     "metadata": {},
     "output_type": "display_data"
    },
    {
     "data": {
      "image/png": "[encoded data removed]",
      "text/plain": [
       "<Figure size 640x480 with 1 Axes>"
      ]
     },
     "metadata": {},
     "output_type": "display_data"
    },
    {
     "data": {
      "image/png": "[encoded data removed]",
      "text/plain": [
       "<Figure size 640x480 with 1 Axes>"
      ]
     },
     "metadata": {},
     "output_type": "display_data"
    }
   ],
   "source": [
    "for i in ['Alcohol', 'Malic_Acid', 'Ash', 'Ash_Alcanity', 'Magnesium','Total_Phenols', 'Flavanoids', 'Nonflavanoid_Phenols','Proanthocyanins', 'Color_Intensity', 'Hue', 'OD280', 'Proline']:\n",
    "    plt.figure()\n",
    "    plt.boxplot(data[i])\n",
    "    plt.title(i)"
   ]
  },
  {
   "cell_type": "markdown",
   "id": "7288a8ed",
   "metadata": {},
   "source": [
    "##### Malic_Acid"
   ]
  },
  {
   "cell_type": "code",
   "execution_count": 13,
   "id": "2497cdc5",
   "metadata": {},
   "outputs": [],
   "source": [
    "Q1 = np.percentile(data['Malic_Acid'],25,interpolation='midpoint')\n",
    "Q2 = np.percentile(data['Malic_Acid'],50,interpolation='midpoint')\n",
    "Q3 = np.percentile(data['Malic_Acid'],75,interpolation='midpoint')"
   ]
  },
  {
   "cell_type": "code",
   "execution_count": 14,
   "id": "64ad66ee",
   "metadata": {},
   "outputs": [
    {
     "data": {
      "text/plain": [
       "1.46"
      ]
     },
     "execution_count": 14,
     "metadata": {},
     "output_type": "execute_result"
    }
   ],
   "source": [
    "IQR = Q3 - Q1\n",
    "IQR"
   ]
  },
  {
   "cell_type": "code",
   "execution_count": 15,
   "id": "e3f5e522",
   "metadata": {},
   "outputs": [
    {
     "data": {
      "text/plain": [
       "-0.585"
      ]
     },
     "execution_count": 15,
     "metadata": {},
     "output_type": "execute_result"
    }
   ],
   "source": [
    "low_lim = Q1-1.5*IQR\n",
    "low_lim"
   ]
  },
  {
   "cell_type": "code",
   "execution_count": 16,
   "id": "e67d28ed",
   "metadata": {},
   "outputs": [
    {
     "data": {
      "text/plain": [
       "4.055"
      ]
     },
     "execution_count": 16,
     "metadata": {},
     "output_type": "execute_result"
    }
   ],
   "source": [
    "up_lim = Q2+1.5*IQR\n",
    "up_lim"
   ]
  },
  {
   "cell_type": "code",
   "execution_count": 17,
   "id": "533bb104",
   "metadata": {},
   "outputs": [],
   "source": [
    "data['Malic_Acid']=np.where(data['Malic_Acid']>up_lim,up_lim,np.where(data['Malic_Acid']<low_lim,low_lim,data['Malic_Acid']))"
   ]
  },
  {
   "cell_type": "code",
   "execution_count": 18,
   "id": "bc789ea3",
   "metadata": {},
   "outputs": [
    {
     "data": {
      "image/png": "[encoded data removed]",
      "text/plain": [
       "<Figure size 640x480 with 1 Axes>"
      ]
     },
     "metadata": {},
     "output_type": "display_data"
    }
   ],
   "source": [
    "plt.figure()\n",
    "plt.boxplot(data['Malic_Acid'])\n",
    "plt.show()"
   ]
  },
  {
   "cell_type": "markdown",
   "id": "04c01395",
   "metadata": {},
   "source": [
    "##### Magnesium"
   ]
  },
  {
   "cell_type": "code",
   "execution_count": 19,
   "id": "33dc5b03",
   "metadata": {},
   "outputs": [],
   "source": [
    "Q1 = np.percentile(data['Magnesium'],25,interpolation='midpoint')\n",
    "Q2 = np.percentile(data['Magnesium'],50,interpolation='midpoint')\n",
    "Q3 = np.percentile(data['Magnesium'],75,interpolation='midpoint')"
   ]
  },
  {
   "cell_type": "code",
   "execution_count": 20,
   "id": "3c2ce57b",
   "metadata": {},
   "outputs": [
    {
     "data": {
      "text/plain": [
       "19.0"
      ]
     },
     "execution_count": 20,
     "metadata": {},
     "output_type": "execute_result"
    }
   ],
   "source": [
    "IQR = Q3 - Q1\n",
    "IQR"
   ]
  },
  {
   "cell_type": "code",
   "execution_count": 21,
   "id": "bca0f2ae",
   "metadata": {},
   "outputs": [
    {
     "data": {
      "text/plain": [
       "59.5"
      ]
     },
     "execution_count": 21,
     "metadata": {},
     "output_type": "execute_result"
    }
   ],
   "source": [
    "low_lim = Q1-1.5*IQR\n",
    "low_lim"
   ]
  },
  {
   "cell_type": "code",
   "execution_count": 22,
   "id": "61151a1a",
   "metadata": {},
   "outputs": [
    {
     "data": {
      "text/plain": [
       "126.5"
      ]
     },
     "execution_count": 22,
     "metadata": {},
     "output_type": "execute_result"
    }
   ],
   "source": [
    "up_lim = Q2+1.5*IQR\n",
    "up_lim"
   ]
  },
  {
   "cell_type": "code",
   "execution_count": 23,
   "id": "96da8ced",
   "metadata": {},
   "outputs": [],
   "source": [
    "data['Magnesium']=np.where(data['Magnesium']>up_lim,up_lim,np.where(data['Magnesium']<low_lim,low_lim,data['Magnesium']))"
   ]
  },
  {
   "cell_type": "code",
   "execution_count": 24,
   "id": "ec4808f3",
   "metadata": {},
   "outputs": [
    {
     "data": {
      "image/png": "[encoded data removed]",
      "text/plain": [
       "<Figure size 640x480 with 1 Axes>"
      ]
     },
     "metadata": {},
     "output_type": "display_data"
    }
   ],
   "source": [
    "plt.figure()\n",
    "plt.boxplot(data['Magnesium'])\n",
    "plt.show()"
   ]
  },
  {
   "cell_type": "markdown",
   "id": "66db63f4",
   "metadata": {},
   "source": [
    "##### Color_Intensity"
   ]
  },
  {
   "cell_type": "code",
   "execution_count": 25,
   "id": "cd2673d1",
   "metadata": {},
   "outputs": [],
   "source": [
    "Q1 = np.percentile(data['Color_Intensity'],25,interpolation='midpoint')\n",
    "Q2 = np.percentile(data['Color_Intensity'],50,interpolation='midpoint')\n",
    "Q3 = np.percentile(data['Color_Intensity'],75,interpolation='midpoint')"
   ]
  },
  {
   "cell_type": "code",
   "execution_count": 26,
   "id": "d4cddee3",
   "metadata": {},
   "outputs": [
    {
     "data": {
      "text/plain": [
       "2.97"
      ]
     },
     "execution_count": 26,
     "metadata": {},
     "output_type": "execute_result"
    }
   ],
   "source": [
    "IQR = Q3 - Q1\n",
    "IQR"
   ]
  },
  {
   "cell_type": "code",
   "execution_count": 27,
   "id": "e48b5df9",
   "metadata": {},
   "outputs": [
    {
     "data": {
      "text/plain": [
       "-1.225"
      ]
     },
     "execution_count": 27,
     "metadata": {},
     "output_type": "execute_result"
    }
   ],
   "source": [
    "low_lim = Q1-1.5*IQR\n",
    "low_lim"
   ]
  },
  {
   "cell_type": "code",
   "execution_count": 28,
   "id": "6c982e48",
   "metadata": {},
   "outputs": [
    {
     "data": {
      "text/plain": [
       "9.145"
      ]
     },
     "execution_count": 28,
     "metadata": {},
     "output_type": "execute_result"
    }
   ],
   "source": [
    "up_lim = Q2+1.5*IQR\n",
    "up_lim"
   ]
  },
  {
   "cell_type": "code",
   "execution_count": 29,
   "id": "9790eaca",
   "metadata": {},
   "outputs": [],
   "source": [
    "data['Color_Intensity']=np.where(data['Color_Intensity']>up_lim,up_lim,np.where(data['Color_Intensity']<low_lim,low_lim,data['Color_Intensity']))"
   ]
  },
  {
   "cell_type": "code",
   "execution_count": 30,
   "id": "c90b73a5",
   "metadata": {},
   "outputs": [
    {
     "data": {
      "image/png": "[encoded data removed]",
      "text/plain": [
       "<Figure size 640x480 with 1 Axes>"
      ]
     },
     "metadata": {},
     "output_type": "display_data"
    }
   ],
   "source": [
    "plt.figure()\n",
    "plt.boxplot(data['Color_Intensity'])\n",
    "plt.show()"
   ]
  },
  {
   "cell_type": "markdown",
   "id": "9448fca5",
   "metadata": {},
   "source": [
    "##### Proanthocyanins"
   ]
  },
  {
   "cell_type": "code",
   "execution_count": 31,
   "id": "3e55a506",
   "metadata": {},
   "outputs": [],
   "source": [
    "Q1 = np.percentile(data['Proanthocyanins'],25,interpolation='midpoint')\n",
    "Q2 = np.percentile(data['Proanthocyanins'],50,interpolation='midpoint')\n",
    "Q3 = np.percentile(data['Proanthocyanins'],75,interpolation='midpoint')"
   ]
  },
  {
   "cell_type": "code",
   "execution_count": 32,
   "id": "68196dce",
   "metadata": {},
   "outputs": [
    {
     "data": {
      "text/plain": [
       "0.7"
      ]
     },
     "execution_count": 32,
     "metadata": {},
     "output_type": "execute_result"
    }
   ],
   "source": [
    "IQR = Q3 - Q1\n",
    "IQR"
   ]
  },
  {
   "cell_type": "code",
   "execution_count": 33,
   "id": "d6d60179",
   "metadata": {},
   "outputs": [
    {
     "data": {
      "text/plain": [
       "0.20000000000000018"
      ]
     },
     "execution_count": 33,
     "metadata": {},
     "output_type": "execute_result"
    }
   ],
   "source": [
    "low_lim = Q1-1.5*IQR\n",
    "low_lim"
   ]
  },
  {
   "cell_type": "code",
   "execution_count": 34,
   "id": "33304c42",
   "metadata": {},
   "outputs": [
    {
     "data": {
      "text/plain": [
       "2.605"
      ]
     },
     "execution_count": 34,
     "metadata": {},
     "output_type": "execute_result"
    }
   ],
   "source": [
    "up_lim = Q2+1.5*IQR\n",
    "up_lim"
   ]
  },
  {
   "cell_type": "code",
   "execution_count": 35,
   "id": "19b4ce08",
   "metadata": {},
   "outputs": [],
   "source": [
    "data['Proanthocyanins']=np.where(data['Proanthocyanins']>up_lim,up_lim,np.where(data['Proanthocyanins']<low_lim,low_lim,data['Proanthocyanins']))"
   ]
  },
  {
   "cell_type": "code",
   "execution_count": 36,
   "id": "d3318ec3",
   "metadata": {},
   "outputs": [
    {
     "data": {
      "image/png": "[encoded data removed]",
      "text/plain": [
       "<Figure size 640x480 with 1 Axes>"
      ]
     },
     "metadata": {},
     "output_type": "display_data"
    }
   ],
   "source": [
    "plt.figure()\n",
    "plt.boxplot(data['Proanthocyanins'])\n",
    "plt.show()"
   ]
  },
  {
   "cell_type": "markdown",
   "id": "52ac0b4b",
   "metadata": {},
   "source": [
    "##### Ash_Alcanity"
   ]
  },
  {
   "cell_type": "code",
   "execution_count": 37,
   "id": "5b41b000",
   "metadata": {},
   "outputs": [],
   "source": [
    "Q1 = np.percentile(data['Ash_Alcanity'],25,interpolation='midpoint')\n",
    "Q2 = np.percentile(data['Ash_Alcanity'],50,interpolation='midpoint')\n",
    "Q3 = np.percentile(data['Ash_Alcanity'],75,interpolation='midpoint')"
   ]
  },
  {
   "cell_type": "code",
   "execution_count": 38,
   "id": "0ab3e623",
   "metadata": {},
   "outputs": [
    {
     "data": {
      "text/plain": [
       "4.300000000000001"
      ]
     },
     "execution_count": 38,
     "metadata": {},
     "output_type": "execute_result"
    }
   ],
   "source": [
    "IQR = Q3 - Q1\n",
    "IQR"
   ]
  },
  {
   "cell_type": "code",
   "execution_count": 39,
   "id": "aea829d9",
   "metadata": {},
   "outputs": [
    {
     "data": {
      "text/plain": [
       "10.749999999999998"
      ]
     },
     "execution_count": 39,
     "metadata": {},
     "output_type": "execute_result"
    }
   ],
   "source": [
    "low_lim = Q1-1.5*IQR\n",
    "low_lim"
   ]
  },
  {
   "cell_type": "code",
   "execution_count": 40,
   "id": "1e981608",
   "metadata": {},
   "outputs": [
    {
     "data": {
      "text/plain": [
       "25.950000000000003"
      ]
     },
     "execution_count": 40,
     "metadata": {},
     "output_type": "execute_result"
    }
   ],
   "source": [
    "up_lim = Q2+1.5*IQR\n",
    "up_lim"
   ]
  },
  {
   "cell_type": "code",
   "execution_count": 41,
   "id": "79fedf84",
   "metadata": {},
   "outputs": [],
   "source": [
    "data['Ash_Alcanity']=np.where(data['Ash_Alcanity']>up_lim,up_lim,np.where(data['Ash_Alcanity']<low_lim,low_lim,data['Ash_Alcanity']))"
   ]
  },
  {
   "cell_type": "code",
   "execution_count": 42,
   "id": "e70129f5",
   "metadata": {},
   "outputs": [
    {
     "data": {
      "image/png": "[encoded data removed]",
      "text/plain": [
       "<Figure size 640x480 with 1 Axes>"
      ]
     },
     "metadata": {},
     "output_type": "display_data"
    }
   ],
   "source": [
    "plt.figure()\n",
    "plt.boxplot(data['Ash_Alcanity'])\n",
    "plt.show()"
   ]
  },
  {
   "cell_type": "markdown",
   "id": "08f39755",
   "metadata": {},
   "source": [
    "### Scaling The Data"
   ]
  },
  {
   "cell_type": "code",
   "execution_count": 43,
   "id": "3b7ace70",
   "metadata": {},
   "outputs": [],
   "source": [
    "sc = StandardScaler()"
   ]
  },
  {
   "cell_type": "code",
   "execution_count": 44,
   "id": "3accafe4",
   "metadata": {},
   "outputs": [],
   "source": [
    "df = sc.fit_transform(data)"
   ]
  },
  {
   "cell_type": "code",
   "execution_count": 45,
   "id": "ad57090a",
   "metadata": {},
   "outputs": [
    {
     "data": {
      "text/plain": [
       "array([[ 1.51861254, -0.57740236,  0.23205254, ...,  0.36217728,\n",
       "         1.84791957,  1.01300893],\n",
       "       [ 0.24628963, -0.50574465, -0.82799632, ...,  0.40605066,\n",
       "         1.1134493 ,  0.96524152],\n",
       "       [ 0.19687903,  0.0879906 ,  1.10933436, ...,  0.31830389,\n",
       "         0.78858745,  1.39514818],\n",
       "       ...,\n",
       "       [ 0.33275817,  1.82313068, -0.38935541, ..., -1.61212515,\n",
       "        -1.48544548,  0.28057537],\n",
       "       [ 0.20923168,  0.32343734,  0.01273209, ..., -1.56825176,\n",
       "        -1.40069891,  0.29649784],\n",
       "       [ 1.39508604,  1.82313068,  1.36520822, ..., -1.52437837,\n",
       "        -1.42894777, -0.59516041]])"
      ]
     },
     "execution_count": 45,
     "metadata": {},
     "output_type": "execute_result"
    }
   ],
   "source": [
    "df"
   ]
  },
  {
   "cell_type": "code",
   "execution_count": 46,
   "id": "76fac02b",
   "metadata": {},
   "outputs": [],
   "source": [
    "df = pd.DataFrame(df,columns=data.columns)"
   ]
  },
  {
   "cell_type": "code",
   "execution_count": 47,
   "id": "f5355e22",
   "metadata": {},
   "outputs": [
    {
     "data": {
      "text/html": [
       "<div>\n",
       "<style scoped>\n",
       "    .dataframe tbody tr th:only-of-type {\n",
       "        vertical-align: middle;\n",
       "    }\n",
       "\n",
       "    .dataframe tbody tr th {\n",
       "        vertical-align: top;\n",
       "    }\n",
       "\n",
       "    .dataframe thead th {\n",
       "        text-align: right;\n",
       "    }\n",
       "</style>\n",
       "<table border=\"1\" class=\"dataframe\">\n",
       "  <thead>\n",
       "    <tr style=\"text-align: right;\">\n",
       "      <th></th>\n",
       "      <th>Alcohol</th>\n",
       "      <th>Malic_Acid</th>\n",
       "      <th>Ash</th>\n",
       "      <th>Ash_Alcanity</th>\n",
       "      <th>Magnesium</th>\n",
       "      <th>Total_Phenols</th>\n",
       "      <th>Flavanoids</th>\n",
       "      <th>Nonflavanoid_Phenols</th>\n",
       "      <th>Proanthocyanins</th>\n",
       "      <th>Color_Intensity</th>\n",
       "      <th>Hue</th>\n",
       "      <th>OD280</th>\n",
       "      <th>Proline</th>\n",
       "    </tr>\n",
       "  </thead>\n",
       "  <tbody>\n",
       "    <tr>\n",
       "      <th>0</th>\n",
       "      <td>1.518613</td>\n",
       "      <td>-0.577402</td>\n",
       "      <td>0.232053</td>\n",
       "      <td>-1.205846</td>\n",
       "      <td>2.151502</td>\n",
       "      <td>0.808997</td>\n",
       "      <td>1.034819</td>\n",
       "      <td>-0.659563</td>\n",
       "      <td>1.369986</td>\n",
       "      <td>0.316922</td>\n",
       "      <td>0.362177</td>\n",
       "      <td>1.847920</td>\n",
       "      <td>1.013009</td>\n",
       "    </tr>\n",
       "    <tr>\n",
       "      <th>1</th>\n",
       "      <td>0.246290</td>\n",
       "      <td>-0.505745</td>\n",
       "      <td>-0.827996</td>\n",
       "      <td>-2.589305</td>\n",
       "      <td>0.063306</td>\n",
       "      <td>0.568648</td>\n",
       "      <td>0.733629</td>\n",
       "      <td>-0.820719</td>\n",
       "      <td>-0.555406</td>\n",
       "      <td>-0.280458</td>\n",
       "      <td>0.406051</td>\n",
       "      <td>1.113449</td>\n",
       "      <td>0.965242</td>\n",
       "    </tr>\n",
       "    <tr>\n",
       "      <th>2</th>\n",
       "      <td>0.196879</td>\n",
       "      <td>0.087991</td>\n",
       "      <td>1.109334</td>\n",
       "      <td>-0.262578</td>\n",
       "      <td>0.142105</td>\n",
       "      <td>0.808997</td>\n",
       "      <td>1.215533</td>\n",
       "      <td>-0.498407</td>\n",
       "      <td>1.970480</td>\n",
       "      <td>0.335887</td>\n",
       "      <td>0.318304</td>\n",
       "      <td>0.788587</td>\n",
       "      <td>1.395148</td>\n",
       "    </tr>\n",
       "    <tr>\n",
       "      <th>3</th>\n",
       "      <td>1.691550</td>\n",
       "      <td>-0.331719</td>\n",
       "      <td>0.487926</td>\n",
       "      <td>-0.828539</td>\n",
       "      <td>1.087704</td>\n",
       "      <td>2.491446</td>\n",
       "      <td>1.466525</td>\n",
       "      <td>-0.981875</td>\n",
       "      <td>1.160290</td>\n",
       "      <td>1.341004</td>\n",
       "      <td>-0.427544</td>\n",
       "      <td>1.184071</td>\n",
       "      <td>2.334574</td>\n",
       "    </tr>\n",
       "    <tr>\n",
       "      <th>4</th>\n",
       "      <td>0.295700</td>\n",
       "      <td>0.323437</td>\n",
       "      <td>1.840403</td>\n",
       "      <td>0.492036</td>\n",
       "      <td>1.481703</td>\n",
       "      <td>0.808997</td>\n",
       "      <td>0.663351</td>\n",
       "      <td>0.226796</td>\n",
       "      <td>0.474012</td>\n",
       "      <td>-0.308905</td>\n",
       "      <td>0.362177</td>\n",
       "      <td>0.449601</td>\n",
       "      <td>-0.037874</td>\n",
       "    </tr>\n",
       "  </tbody>\n",
       "</table>\n",
       "</div>"
      ],
      "text/plain": [
       "    Alcohol  Malic_Acid       Ash  Ash_Alcanity  Magnesium  Total_Phenols  \\\n",
       "0  1.518613   -0.577402  0.232053     -1.205846   2.151502       0.808997   \n",
       "1  0.246290   -0.505745 -0.827996     -2.589305   0.063306       0.568648   \n",
       "2  0.196879    0.087991  1.109334     -0.262578   0.142105       0.808997   \n",
       "3  1.691550   -0.331719  0.487926     -0.828539   1.087704       2.491446   \n",
       "4  0.295700    0.323437  1.840403      0.492036   1.481703       0.808997   \n",
       "\n",
       "   Flavanoids  Nonflavanoid_Phenols  Proanthocyanins  Color_Intensity  \\\n",
       "0    1.034819             -0.659563         1.369986         0.316922   \n",
       "1    0.733629             -0.820719        -0.555406        -0.280458   \n",
       "2    1.215533             -0.498407         1.970480         0.335887   \n",
       "3    1.466525             -0.981875         1.160290         1.341004   \n",
       "4    0.663351              0.226796         0.474012        -0.308905   \n",
       "\n",
       "        Hue     OD280   Proline  \n",
       "0  0.362177  1.847920  1.013009  \n",
       "1  0.406051  1.113449  0.965242  \n",
       "2  0.318304  0.788587  1.395148  \n",
       "3 -0.427544  1.184071  2.334574  \n",
       "4  0.362177  0.449601 -0.037874  "
      ]
     },
     "execution_count": 47,
     "metadata": {},
     "output_type": "execute_result"
    }
   ],
   "source": [
    "df.head()"
   ]
  },
  {
   "cell_type": "markdown",
   "id": "10f0f7c0",
   "metadata": {},
   "source": [
    "# KMeans"
   ]
  },
  {
   "cell_type": "code",
   "execution_count": 48,
   "id": "7bf669a8",
   "metadata": {},
   "outputs": [],
   "source": [
    "wcss=[]\n",
    "for i in range(1,16):\n",
    "    kmeans = KMeans(n_clusters=i,init='k-means++',random_state=42)\n",
    "    kmeans.fit(df)\n",
    "    wcss.append(kmeans.inertia_)"
   ]
  },
  {
   "cell_type": "code",
   "execution_count": 49,
   "id": "437e85cd",
   "metadata": {},
   "outputs": [
    {
     "data": {
      "text/plain": [
       "[2314.0,\n",
       " 1652.656499326398,\n",
       " 1251.009183347178,\n",
       " 1158.9722883319573,\n",
       " 1087.3872870826815,\n",
       " 1025.160599988585,\n",
       " 966.5398071817469,\n",
       " 924.0416877508724,\n",
       " 892.8988513592387,\n",
       " 862.1596037560366,\n",
       " 834.588113338823,\n",
       " 793.104779608084,\n",
       " 770.371026550585,\n",
       " 749.0340531334574,\n",
       " 725.9893216174678]"
      ]
     },
     "execution_count": 49,
     "metadata": {},
     "output_type": "execute_result"
    }
   ],
   "source": [
    "wcss"
   ]
  },
  {
   "cell_type": "markdown",
   "id": "7ee03d7e",
   "metadata": {},
   "source": [
    "#### Elbow Method"
   ]
  },
  {
   "cell_type": "code",
   "execution_count": 50,
   "id": "ea82ba2e",
   "metadata": {
    "scrolled": false
   },
   "outputs": [
    {
     "data": {
      "image/png": "[encoded data removed]",
      "text/plain": [
       "<Figure size 640x480 with 1 Axes>"
      ]
     },
     "metadata": {},
     "output_type": "display_data"
    }
   ],
   "source": [
    "plt.plot(range(1,16),wcss)\n",
    "plt.title('Elbow Method')\n",
    "plt.xlabel('No.of Clusters')\n",
    "plt.ylabel('WCSS Score')\n",
    "plt.show()"
   ]
  },
  {
   "cell_type": "code",
   "execution_count": 51,
   "id": "3d0f6ae1",
   "metadata": {},
   "outputs": [],
   "source": [
    "kmeans = KMeans(n_clusters=3,init='k-means++',random_state=42)\n",
    "y_kmeans = kmeans.fit_predict(df)"
   ]
  },
  {
   "cell_type": "code",
   "execution_count": 52,
   "id": "adcbd431",
   "metadata": {},
   "outputs": [
    {
     "data": {
      "text/plain": [
       "array([2, 2, 2, 2, 2, 2, 2, 2, 2, 2, 2, 2, 2, 2, 2, 2, 2, 2, 2, 2, 2, 2,\n",
       "       2, 2, 2, 2, 2, 2, 2, 2, 2, 2, 2, 2, 2, 2, 2, 2, 2, 2, 2, 2, 2, 2,\n",
       "       2, 2, 2, 2, 2, 2, 2, 2, 2, 2, 2, 2, 2, 2, 2, 0, 0, 1, 0, 0, 0, 0,\n",
       "       0, 0, 0, 0, 0, 0, 0, 2, 0, 0, 0, 0, 0, 0, 0, 0, 0, 1, 0, 0, 0, 0,\n",
       "       0, 0, 0, 0, 0, 0, 0, 2, 0, 0, 0, 0, 0, 0, 0, 0, 0, 0, 0, 0, 0, 0,\n",
       "       0, 0, 0, 0, 0, 0, 0, 0, 1, 0, 0, 2, 0, 0, 0, 0, 0, 0, 0, 0, 1, 1,\n",
       "       1, 1, 1, 1, 1, 1, 1, 1, 1, 1, 1, 1, 1, 1, 1, 1, 1, 1, 1, 1, 1, 1,\n",
       "       1, 1, 1, 1, 1, 1, 1, 1, 1, 1, 1, 1, 1, 1, 1, 1, 1, 1, 1, 1, 1, 1,\n",
       "       1, 1])"
      ]
     },
     "execution_count": 52,
     "metadata": {},
     "output_type": "execute_result"
    }
   ],
   "source": [
    "y_kmeans"
   ]
  },
  {
   "cell_type": "code",
   "execution_count": 53,
   "id": "954d8011",
   "metadata": {
    "scrolled": true
   },
   "outputs": [],
   "source": [
    "silhouette_score = silhouette_score(df,y_kmeans)"
   ]
  },
  {
   "cell_type": "code",
   "execution_count": 54,
   "id": "005dcf12",
   "metadata": {},
   "outputs": [
    {
     "data": {
      "text/plain": [
       "0.2904472883651663"
      ]
     },
     "execution_count": 54,
     "metadata": {},
     "output_type": "execute_result"
    }
   ],
   "source": [
    "silhouette_score"
   ]
  },
  {
   "cell_type": "markdown",
   "id": "d4c98522",
   "metadata": {},
   "source": [
    "# Agglomerative HC"
   ]
  },
  {
   "cell_type": "markdown",
   "id": "992ff25d",
   "metadata": {},
   "source": [
    "#### Dendrogram"
   ]
  },
  {
   "cell_type": "code",
   "execution_count": 55,
   "id": "2d9d60bb",
   "metadata": {},
   "outputs": [
    {
     "data": {
      "image/png": "[encoded data removed]",
      "text/plain": [
       "<Figure size 640x480 with 1 Axes>"
      ]
     },
     "metadata": {},
     "output_type": "display_data"
    }
   ],
   "source": [
    "dendrogram = sch.dendrogram(sch.linkage(df,method='ward'))\n",
    "plt.title('Dentrogram')\n",
    "plt.xlabel('Ingredients of Wine')\n",
    "plt.ylabel('Euglidien Distance')\n",
    "plt.show()"
   ]
  },
  {
   "cell_type": "code",
   "execution_count": 56,
   "id": "8feb5f0c",
   "metadata": {},
   "outputs": [],
   "source": [
    "hc = AgglomerativeClustering(n_clusters=3,affinity='euclidean',linkage='ward')"
   ]
  },
  {
   "cell_type": "code",
   "execution_count": 57,
   "id": "72777ed5",
   "metadata": {},
   "outputs": [],
   "source": [
    "y_hc = hc.fit_predict(df)"
   ]
  },
  {
   "cell_type": "code",
   "execution_count": 58,
   "id": "b3f02831",
   "metadata": {},
   "outputs": [
    {
     "data": {
      "text/plain": [
       "array([2, 2, 2, 2, 2, 2, 2, 2, 2, 2, 2, 2, 2, 2, 2, 2, 2, 2, 2, 2, 2, 2,\n",
       "       2, 2, 2, 2, 2, 2, 2, 2, 2, 2, 2, 2, 2, 2, 2, 2, 2, 2, 2, 2, 2, 2,\n",
       "       2, 2, 2, 2, 2, 2, 2, 2, 2, 2, 2, 2, 2, 2, 2, 0, 1, 1, 0, 0, 0, 2,\n",
       "       0, 0, 1, 0, 1, 2, 0, 2, 0, 0, 0, 1, 0, 0, 0, 0, 0, 1, 0, 0, 0, 0,\n",
       "       0, 0, 0, 0, 0, 0, 0, 0, 1, 0, 0, 0, 0, 0, 0, 0, 0, 0, 0, 0, 0, 0,\n",
       "       0, 0, 0, 0, 0, 0, 0, 0, 1, 0, 0, 2, 0, 0, 0, 0, 0, 0, 0, 0, 1, 1,\n",
       "       1, 1, 1, 1, 1, 1, 1, 1, 1, 1, 1, 1, 1, 1, 1, 1, 1, 1, 1, 1, 1, 1,\n",
       "       1, 1, 1, 1, 1, 1, 1, 1, 1, 1, 1, 1, 1, 1, 1, 1, 1, 1, 1, 1, 1, 1,\n",
       "       1, 1], dtype=int64)"
      ]
     },
     "execution_count": 58,
     "metadata": {},
     "output_type": "execute_result"
    }
   ],
   "source": [
    "y_hc"
   ]
  },
  {
   "cell_type": "markdown",
   "id": "2d078707",
   "metadata": {},
   "source": [
    "# PCA"
   ]
  },
  {
   "cell_type": "code",
   "execution_count": 59,
   "id": "0ed0ebfe",
   "metadata": {},
   "outputs": [],
   "source": [
    "pca = PCA(0.99)\n",
    "pca.fit(df)\n",
    "x_pca = pca.transform(df)"
   ]
  },
  {
   "cell_type": "code",
   "execution_count": 60,
   "id": "ac772547",
   "metadata": {},
   "outputs": [
    {
     "data": {
      "text/plain": [
       "(178, 12)"
      ]
     },
     "execution_count": 60,
     "metadata": {},
     "output_type": "execute_result"
    }
   ],
   "source": [
    "x_pca.shape"
   ]
  },
  {
   "cell_type": "code",
   "execution_count": 61,
   "id": "4f7c575b",
   "metadata": {
    "scrolled": true
   },
   "outputs": [
    {
     "data": {
      "text/plain": [
       "array([[ 3.43229782, -1.54494778, -0.12287136, ..., -1.0741535 ,\n",
       "        -0.17218384,  0.6377715 ],\n",
       "       [ 2.24265293,  0.34236214, -2.0642721 , ..., -0.30787908,\n",
       "        -0.25137316,  0.29032402],\n",
       "       [ 2.47872564, -1.01732854,  1.00095784, ..., -0.09883484,\n",
       "        -0.28670584,  0.00519995],\n",
       "       ...,\n",
       "       [-2.59390334, -2.83482493, -0.90076886, ...,  0.22555249,\n",
       "         0.50811109,  0.47344296],\n",
       "       [-2.33845427, -2.55035209, -0.55945941, ..., -0.41120034,\n",
       "         0.4124264 ,  0.48334397],\n",
       "       [-3.2450087 , -2.94051168,  1.04307426, ...,  0.3220306 ,\n",
       "        -0.14595161, -0.02889232]])"
      ]
     },
     "execution_count": 61,
     "metadata": {},
     "output_type": "execute_result"
    }
   ],
   "source": [
    "x_pca"
   ]
  },
  {
   "cell_type": "code",
   "execution_count": 62,
   "id": "36cd7676",
   "metadata": {},
   "outputs": [
    {
     "data": {
      "text/plain": [
       "array([0.36614202, 0.2015681 , 0.11011674, 0.06931232, 0.06131904,\n",
       "       0.04599547, 0.03849118, 0.02801771, 0.02199911, 0.01958519,\n",
       "       0.01667171, 0.01298974])"
      ]
     },
     "execution_count": 62,
     "metadata": {},
     "output_type": "execute_result"
    }
   ],
   "source": [
    "pca.explained_variance_ratio_"
   ]
  },
  {
   "cell_type": "code",
   "execution_count": 63,
   "id": "886c6387",
   "metadata": {},
   "outputs": [
    {
     "data": {
      "text/plain": [
       "0.9922083172977196"
      ]
     },
     "execution_count": 63,
     "metadata": {},
     "output_type": "execute_result"
    }
   ],
   "source": [
    "np.sum(pca.explained_variance_ratio_)"
   ]
  },
  {
   "cell_type": "markdown",
   "id": "a4f534bf",
   "metadata": {},
   "source": [
    "# DBSCAN"
   ]
  },
  {
   "cell_type": "code",
   "execution_count": 64,
   "id": "e4abe77f",
   "metadata": {},
   "outputs": [],
   "source": [
    "from collections import Counter"
   ]
  },
  {
   "cell_type": "code",
   "execution_count": 65,
   "id": "13597b30",
   "metadata": {},
   "outputs": [],
   "source": [
    "model = DBSCAN(eps=0.5, min_samples=20).fit(df)"
   ]
  },
  {
   "cell_type": "code",
   "execution_count": 66,
   "id": "15531f47",
   "metadata": {},
   "outputs": [
    {
     "data": {
      "text/plain": [
       "DBSCAN(min_samples=20)"
      ]
     },
     "execution_count": 66,
     "metadata": {},
     "output_type": "execute_result"
    }
   ],
   "source": [
    "model"
   ]
  },
  {
   "cell_type": "code",
   "execution_count": 67,
   "id": "27713e16",
   "metadata": {},
   "outputs": [
    {
     "name": "stdout",
     "output_type": "stream",
     "text": [
      "Counter({-1: 178})\n"
     ]
    }
   ],
   "source": [
    "outliers_df = pd.DataFrame(df)\n",
    "\n",
    "print(Counter(model.labels_))"
   ]
  },
  {
   "cell_type": "code",
   "execution_count": 68,
   "id": "d1f11151",
   "metadata": {},
   "outputs": [
    {
     "data": {
      "text/plain": [
       "array([-1, -1, -1, -1, -1, -1, -1, -1, -1, -1, -1, -1, -1, -1, -1, -1, -1,\n",
       "       -1, -1, -1, -1, -1, -1, -1, -1, -1, -1, -1, -1, -1, -1, -1, -1, -1,\n",
       "       -1, -1, -1, -1, -1, -1, -1, -1, -1, -1, -1, -1, -1, -1, -1, -1, -1,\n",
       "       -1, -1, -1, -1, -1, -1, -1, -1, -1, -1, -1, -1, -1, -1, -1, -1, -1,\n",
       "       -1, -1, -1, -1, -1, -1, -1, -1, -1, -1, -1, -1, -1, -1, -1, -1, -1,\n",
       "       -1, -1, -1, -1, -1, -1, -1, -1, -1, -1, -1, -1, -1, -1, -1, -1, -1,\n",
       "       -1, -1, -1, -1, -1, -1, -1, -1, -1, -1, -1, -1, -1, -1, -1, -1, -1,\n",
       "       -1, -1, -1, -1, -1, -1, -1, -1, -1, -1, -1, -1, -1, -1, -1, -1, -1,\n",
       "       -1, -1, -1, -1, -1, -1, -1, -1, -1, -1, -1, -1, -1, -1, -1, -1, -1,\n",
       "       -1, -1, -1, -1, -1, -1, -1, -1, -1, -1, -1, -1, -1, -1, -1, -1, -1,\n",
       "       -1, -1, -1, -1, -1, -1, -1, -1], dtype=int64)"
      ]
     },
     "execution_count": 68,
     "metadata": {},
     "output_type": "execute_result"
    }
   ],
   "source": [
    "model.labels_"
   ]
  },
  {
   "cell_type": "code",
   "execution_count": 69,
   "id": "7d4be404",
   "metadata": {},
   "outputs": [
    {
     "data": {
      "image/png": "[encoded data removed]",
      "text/plain": [
       "<Figure size 640x480 with 1 Axes>"
      ]
     },
     "metadata": {},
     "output_type": "display_data"
    }
   ],
   "source": [
    "fig = plt.figure()\n",
    "ax = fig.add_axes([.1,.1,1,1])\n",
    "\n",
    "colors = model.labels_\n",
    "\n",
    "ax.scatter(data['Ash'],data['Ash_Alcanity'], c=colors, s=120)\n",
    "ax.set_xlabel('X')\n",
    "ax.set_ylabel('Y')\n",
    "plt.show()"
   ]
  },
  {
   "cell_type": "code",
   "execution_count": 70,
   "id": "08eead4b",
   "metadata": {},
   "outputs": [
    {
     "data": {
      "image/png": "[encoded data removed]",
      "text/plain": [
       "<Figure size 640x480 with 1 Axes>"
      ]
     },
     "metadata": {},
     "output_type": "display_data"
    }
   ],
   "source": [
    "fig = plt.figure()\n",
    "ax = fig.add_axes([.1,.1,1,1])\n",
    "\n",
    "ax.scatter(data['Proanthocyanins'],data['Nonflavanoid_Phenols'], c=colors, s=120)\n",
    "ax.set_xlabel('X')\n",
    "ax.set_ylabel('Y')\n",
    "plt.show()"
   ]
  },
  {
   "cell_type": "code",
   "execution_count": null,
   "id": "2a9c866d",
   "metadata": {},
   "outputs": [],
   "source": []
  }
 ],
 "metadata": {
  "kernelspec": {
   "display_name": "Python 3 (ipykernel)",
   "language": "python",
   "name": "python3"
  },
  "language_info": {
   "codemirror_mode": {
    "name": "ipython",
    "version": 3
   },
   "file_extension": ".py",
   "mimetype": "text/x-python",
   "name": "python",
   "nbconvert_exporter": "python",
   "pygments_lexer": "ipython3",
   "version": "3.9.13"
  }
 },
 "nbformat": 4,
 "nbformat_minor": 5
}
